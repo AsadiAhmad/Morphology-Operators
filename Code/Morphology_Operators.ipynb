{
  "nbformat": 4,
  "nbformat_minor": 0,
  "metadata": {
    "colab": {
      "provenance": [],
      "collapsed_sections": [
        "LwFfb2k-r2sf",
        "Ys0Jt7Z9r6pe",
        "1rppmifBv7r7",
        "45vh3Sol18Pq",
        "ubIz6KLI69E0",
        "RA-FQjYHEwdc"
      ],
      "authorship_tag": "ABX9TyMgOvIVjyRqXKdzd47AWzwi",
      "include_colab_link": true
    },
    "kernelspec": {
      "name": "python3",
      "display_name": "Python 3"
    },
    "language_info": {
      "name": "python"
    }
  },
  "cells": [
    {
      "cell_type": "markdown",
      "metadata": {
        "id": "view-in-github",
        "colab_type": "text"
      },
      "source": [
        "<a href=\"https://colab.research.google.com/github/AsadiAhmad/Morphology-Operators/blob/main/Code/Morphology_Operators.ipynb\" target=\"_parent\"><img src=\"https://colab.research.google.com/assets/colab-badge.svg\" alt=\"Open In Colab\"/></a>"
      ]
    },
    {
      "cell_type": "markdown",
      "source": [
        "# Step 1: Import Libraries"
      ],
      "metadata": {
        "id": "LwFfb2k-r2sf"
      }
    },
    {
      "cell_type": "code",
      "execution_count": null,
      "metadata": {
        "id": "PP9V63GGrzBU"
      },
      "outputs": [],
      "source": [
        "import numpy as np"
      ]
    },
    {
      "cell_type": "markdown",
      "source": [
        "# Step 2: Define Image with numpy"
      ],
      "metadata": {
        "id": "Ys0Jt7Z9r6pe"
      }
    },
    {
      "cell_type": "code",
      "source": [
        "image = np.array([[10, 10, 10, 20, 10, 10, 20, 10],\n",
        "                  [10, 20, 20, 20, 20, 20, 20, 10],\n",
        "                  [10, 10, 10, 20, 10, 20, 20, 10],\n",
        "                  [10, 10, 20, 30, 10, 20, 30, 10],\n",
        "                  [10, 10, 30, 10, 10, 30, 10, 20],\n",
        "                  [20, 10, 30, 10, 30, 20, 20, 10],\n",
        "                  [20, 20, 20, 20, 10, 10, 20, 10],\n",
        "                  [20, 20, 30, 20, 20, 30, 10, 30]], dtype=np.uint8)"
      ],
      "metadata": {
        "id": "-9W_EUbOsFL1"
      },
      "execution_count": null,
      "outputs": []
    },
    {
      "cell_type": "markdown",
      "source": [
        "# Step 3: Reflect Padding"
      ],
      "metadata": {
        "id": "1rppmifBv7r7"
      }
    },
    {
      "cell_type": "code",
      "source": [
        "def reflect_padding(image, padding_size):\n",
        "    height, width = image.shape\n",
        "    padded_image = np.zeros((height + padding_size*2, width + padding_size*2), dtype=image.dtype)\n",
        "\n",
        "    padded_image[padding_size:height+padding_size, padding_size:width+padding_size] = image\n",
        "\n",
        "    for i in range(padding_size):\n",
        "        padded_image[i, padding_size:width+padding_size] = image[0, :]\n",
        "\n",
        "    for i in range(height+padding_size, height+padding_size*2):\n",
        "        padded_image[i, padding_size:width+padding_size] = image[-1, :]\n",
        "\n",
        "    for j in range(padding_size):\n",
        "        padded_image[padding_size:height+padding_size, j] = image[:, 0]\n",
        "\n",
        "    for j in range(width+padding_size, width+padding_size*2):\n",
        "        padded_image[padding_size:height+padding_size, j] = image[:, -1]\n",
        "\n",
        "    padded_image[:padding_size, :padding_size] = image[0, 0]                    # Top-left\n",
        "    padded_image[:padding_size, width+padding_size:] = image[0, -1]             # Top-right\n",
        "    padded_image[height+padding_size:, :padding_size] = image[-1, 0]            # Bottom-left\n",
        "    padded_image[height+padding_size:, width+padding_size:] = image[-1, -1]     # Bottom-right\n",
        "\n",
        "    return padded_image"
      ],
      "metadata": {
        "id": "6o579p82wLKs"
      },
      "execution_count": null,
      "outputs": []
    },
    {
      "cell_type": "code",
      "source": [
        "padded_image = reflect_padding(image, 1)"
      ],
      "metadata": {
        "id": "krDw6hf30IdB"
      },
      "execution_count": null,
      "outputs": []
    },
    {
      "cell_type": "code",
      "source": [
        "print(padded_image)"
      ],
      "metadata": {
        "colab": {
          "base_uri": "https://localhost:8080/"
        },
        "id": "OumzNvvE0ZvP",
        "outputId": "ba0735b1-b17f-43ca-d54d-ef830aaf2773"
      },
      "execution_count": null,
      "outputs": [
        {
          "output_type": "stream",
          "name": "stdout",
          "text": [
            "[[10 10 10 10 20 10 10 20 10 10]\n",
            " [10 10 10 10 20 10 10 20 10 10]\n",
            " [10 10 20 20 20 20 20 20 10 10]\n",
            " [10 10 10 10 20 10 20 20 10 10]\n",
            " [10 10 10 20 30 10 20 30 10 10]\n",
            " [10 10 10 30 10 10 30 10 20 20]\n",
            " [20 20 10 30 10 30 20 20 10 10]\n",
            " [20 20 20 20 20 10 10 20 10 10]\n",
            " [20 20 20 30 20 20 30 10 30 30]\n",
            " [20 20 20 30 20 20 30 10 30 30]]\n"
          ]
        }
      ]
    },
    {
      "cell_type": "markdown",
      "source": [
        "# Step 4: Define Kernel"
      ],
      "metadata": {
        "id": "45vh3Sol18Pq"
      }
    },
    {
      "cell_type": "code",
      "source": [
        "kernel = np.array([[1, 1, 1],\n",
        "                   [1, 0, 0],\n",
        "                   [1, 0, 0]], dtype=np.uint8)"
      ],
      "metadata": {
        "id": "g8aFfd9r6tQQ"
      },
      "execution_count": null,
      "outputs": []
    },
    {
      "cell_type": "markdown",
      "source": [
        "# Step 5: Calculate Erosion"
      ],
      "metadata": {
        "id": "ubIz6KLI69E0"
      }
    },
    {
      "cell_type": "code",
      "source": [
        "def calculate_erosion(image, kernel):\n",
        "    height, width = image.shape\n",
        "    kernel_height, kernel_width = kernel.shape\n",
        "    kernel_height //= 2\n",
        "    kernel_width //= 2\n",
        "\n",
        "    result_image = np.zeros((height - 2*kernel_height, width - 2*kernel_width), dtype=image.dtype)\n",
        "    for i in range(kernel_height, height - kernel_height):\n",
        "        for j in range(kernel_width, width - kernel_width):\n",
        "            matrix = image[i-kernel_height:i+kernel_height+1, j-kernel_width:j+kernel_width+1]\n",
        "            multiplied = matrix * kernel\n",
        "            multiplied = multiplied.flatten().tolist()\n",
        "            while 0 in multiplied:\n",
        "                multiplied.remove(0)\n",
        "            result_image[i - kernel_height, j - kernel_width] = min(multiplied)\n",
        "    return result_image"
      ],
      "metadata": {
        "id": "tQtwkZaP7Dsr"
      },
      "execution_count": null,
      "outputs": []
    },
    {
      "cell_type": "code",
      "source": [
        "erosion = calculate_erosion(padded_image, kernel)"
      ],
      "metadata": {
        "id": "sLBuELYABq2J"
      },
      "execution_count": null,
      "outputs": []
    },
    {
      "cell_type": "code",
      "source": [
        "print(erosion)"
      ],
      "metadata": {
        "colab": {
          "base_uri": "https://localhost:8080/"
        },
        "id": "reaT6A9HBxe2",
        "outputId": "0f8af424-622f-4efb-dbb8-e73872de11f3"
      },
      "execution_count": null,
      "outputs": [
        {
          "output_type": "stream",
          "name": "stdout",
          "text": [
            "[[10 10 10 10 10 10 10 10]\n",
            " [10 10 10 10 10 10 10 10]\n",
            " [10 10 10 10 20 10 10 10]\n",
            " [10 10 10 10 10 10 10 10]\n",
            " [10 10 10 10 10 10 10 10]\n",
            " [10 10 10 10 10 10 10 10]\n",
            " [10 10 10 10 10 10 10 10]\n",
            " [20 20 20 10 10 10 10 10]]\n"
          ]
        }
      ]
    },
    {
      "cell_type": "markdown",
      "source": [
        "# Step 6: Calculate Dilation"
      ],
      "metadata": {
        "id": "RA-FQjYHEwdc"
      }
    },
    {
      "cell_type": "code",
      "source": [
        "def calculate_dilation(image, kernel):\n",
        "    height, width = image.shape\n",
        "    kernel_height, kernel_width = kernel.shape\n",
        "    kernel_height //= 2\n",
        "    kernel_width //= 2\n",
        "\n",
        "    result_image = np.zeros((height - 2*kernel_height, width - 2*kernel_width), dtype=image.dtype)\n",
        "    for i in range(kernel_height, height - kernel_height):\n",
        "        for j in range(kernel_width, width - kernel_width):\n",
        "            matrix = image[i-kernel_height:i+kernel_height+1, j-kernel_width:j+kernel_width+1]\n",
        "            multiplied = matrix * kernel\n",
        "            multiplied = multiplied.flatten().tolist()\n",
        "            while 0 in multiplied:\n",
        "                multiplied.remove(0)\n",
        "            result_image[i - kernel_height, j - kernel_width] = max(multiplied)\n",
        "    return result_image"
      ],
      "metadata": {
        "id": "K6MoR59bEycM"
      },
      "execution_count": null,
      "outputs": []
    },
    {
      "cell_type": "code",
      "source": [
        "dilation = calculate_dilation(padded_image, kernel)"
      ],
      "metadata": {
        "id": "NkD72YqfE4BP"
      },
      "execution_count": null,
      "outputs": []
    },
    {
      "cell_type": "code",
      "source": [
        "print(dilation)"
      ],
      "metadata": {
        "colab": {
          "base_uri": "https://localhost:8080/"
        },
        "id": "HuPW2Ya7FGY8",
        "outputId": "7d0dc757-b256-415a-e968-3f8203245282"
      },
      "execution_count": null,
      "outputs": [
        {
          "output_type": "stream",
          "name": "stdout",
          "text": [
            "[[10 10 20 20 20 20 20 20]\n",
            " [10 10 20 20 20 20 20 20]\n",
            " [20 20 20 20 30 20 20 30]\n",
            " [10 10 20 30 30 20 30 30]\n",
            " [20 20 30 30 30 30 30 30]\n",
            " [20 30 30 30 30 30 30 20]\n",
            " [20 30 30 30 30 30 30 20]\n",
            " [20 20 20 30 20 20 30 20]]\n"
          ]
        }
      ]
    }
  ]
}